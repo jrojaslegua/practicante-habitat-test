{
  "nbformat": 4,
  "nbformat_minor": 0,
  "metadata": {
    "colab": {
      "provenance": [],
      "authorship_tag": "ABX9TyMNW8/mvpNdXUNtQXdn2c9h",
      "include_colab_link": true
    },
    "kernelspec": {
      "name": "python3",
      "display_name": "Python 3"
    },
    "language_info": {
      "name": "python"
    }
  },
  "cells": [
    {
      "cell_type": "markdown",
      "metadata": {
        "id": "view-in-github",
        "colab_type": "text"
      },
      "source": [
        "<a href=\"https://colab.research.google.com/github/jrojaslegua/practicante-habitat-test/blob/applicants/Examen%20AFP%20HABITAT.ipynb\" target=\"_parent\"><img src=\"https://colab.research.google.com/assets/colab-badge.svg\" alt=\"Open In Colab\"/></a>"
      ]
    },
    {
      "cell_type": "code",
      "execution_count": 8,
      "metadata": {
        "colab": {
          "base_uri": "https://localhost:8080/",
          "height": 255
        },
        "id": "JxnN4yPwCSUj",
        "outputId": "7523c30c-edbf-4435-afcf-5ed4cc1aac31"
      },
      "outputs": [
        {
          "output_type": "stream",
          "name": "stderr",
          "text": [
            "<ipython-input-8-327b45c3194d>:7: MovedIn20Warning: The ``declarative_base()`` function is now available as sqlalchemy.orm.declarative_base(). (deprecated since: 2.0) (Background on SQLAlchemy 2.0 at: https://sqlalche.me/e/b8d9)\n",
            "  Base = declarative_base()\n"
          ]
        },
        {
          "output_type": "error",
          "ename": "NameError",
          "evalue": "ignored",
          "traceback": [
            "\u001b[0;31m---------------------------------------------------------------------------\u001b[0m",
            "\u001b[0;31mNameError\u001b[0m                                 Traceback (most recent call last)",
            "\u001b[0;32m<ipython-input-8-327b45c3194d>\u001b[0m in \u001b[0;36m<cell line: 73>\u001b[0;34m()\u001b[0m\n\u001b[1;32m     72\u001b[0m \u001b[0;34m\u001b[0m\u001b[0m\n\u001b[1;32m     73\u001b[0m \u001b[0;32mif\u001b[0m \u001b[0m__name__\u001b[0m \u001b[0;34m==\u001b[0m \u001b[0;34m\"__main__\"\u001b[0m\u001b[0;34m:\u001b[0m\u001b[0;34m\u001b[0m\u001b[0;34m\u001b[0m\u001b[0m\n\u001b[0;32m---> 74\u001b[0;31m     \u001b[0mmain\u001b[0m\u001b[0;34m(\u001b[0m\u001b[0;34m)\u001b[0m\u001b[0;34m\u001b[0m\u001b[0;34m\u001b[0m\u001b[0m\n\u001b[0m",
            "\u001b[0;31mNameError\u001b[0m: name 'main' is not defined"
          ]
        }
      ],
      "source": [
        "from datetime import datetime\n",
        "from sqlalchemy import create_engine, Column, Integer, String, DateTime, ForeignKey\n",
        "from sqlalchemy.ext.declarative import declarative_base\n",
        "from sqlalchemy.orm import sessionmaker, relationship\n",
        "\n",
        "# Creamos la base de datos y la sesión\n",
        "Base = declarative_base()\n",
        "engine = create_engine('sqlite:///estacionamiento.db')\n",
        "Session = sessionmaker(bind=engine)\n",
        "\n",
        "# Definimos las clases utilizando SQLAlchemy\n",
        "\n",
        "class Vehiculo(Base):\n",
        "    __tablename__ = 'vehiculos'\n",
        "\n",
        "    id = Column(Integer, primary_key=True)\n",
        "    numero_placa = Column(String, unique=True, nullable=False)\n",
        "    tipo_vehiculo = Column(String, nullable=False)\n",
        "    estancias = relationship('Estancia', back_populates='vehiculo')\n",
        "\n",
        "class Estancia(Base):\n",
        "    __tablename__ = 'estancias'\n",
        "\n",
        "    id = Column(Integer, primary_key=True)\n",
        "    vehiculo_id = Column(Integer, ForeignKey('vehiculos.id'), nullable=False)\n",
        "    hora_entrada = Column(DateTime, nullable=False)\n",
        "    hora_salida = Column(DateTime)\n",
        "\n",
        "    vehiculo = relationship('Vehiculo', back_populates='estancias')\n",
        "\n",
        "# Creamos las tablas en la base de datos\n",
        "Base.metadata.create_all(engine)\n",
        "\n",
        "# Definimos las clases y funciones restantes\n",
        "\n",
        "class EmpleadoEstacionamiento:\n",
        "    def __init__(self):\n",
        "        self.session = Session()\n",
        "\n",
        "    def registrar_entrada_vehiculo(self, vehiculo, hora_entrada):\n",
        "        nueva_estancia = Estancia(vehiculo=vehiculo, hora_entrada=hora_entrada)\n",
        "        self.session.add(nueva_estancia)\n",
        "        self.session.commit()\n",
        "        print(f\"Vehículo con placa {vehiculo.numero_placa} ha entrado al estacionamiento a las {hora_entrada.strftime('%H:%M:%S')}\")\n",
        "\n",
        "    def registrar_salida_vehiculo(self, vehiculo, hora_salida):\n",
        "        estancia = self.session.query(Estancia).filter_by(vehiculo=vehiculo, hora_salida=None).first()\n",
        "        if estancia:\n",
        "            estancia.hora_salida = hora_salida\n",
        "            self.session.commit()\n",
        "            print(f\"Vehículo con placa {vehiculo.numero_placa} ha salido del estacionamiento a las {hora_salida.strftime('%H:%M:%S')}\")\n",
        "\n",
        "            if vehiculo.tipo_vehiculo == 'oficial':\n",
        "                print(\"Estancia registrada para vehículo oficial.\")\n",
        "            elif vehiculo.tipo_vehiculo == 'residente':\n",
        "                tiempo_estancia = (hora_salida - estancia.hora_entrada).seconds // 60\n",
        "                vehiculo.tiempo_acumulado += tiempo_estancia\n",
        "                print(f\"Tiempo estacionado por vehículo residente: {vehiculo.tiempo_acumulado} minutos.\")\n",
        "            else:\n",
        "                tarifa = Tarifa()\n",
        "                importe = tarifa.calcular_importe(estancia)\n",
        "                print(f\"Importe a pagar por vehículo no residente: MXN {importe:.2f}\")\n",
        "        else:\n",
        "            print(\"El vehículo no está registrado.\")\n",
        "\n",
        "class Tarifa:\n",
        "    def calcular_importe(self, estancia):\n",
        "        tiempo_estancia = (estancia.hora_salida - estancia.hora_entrada).seconds // 60\n",
        "        return tiempo_estancia * 0.5\n",
        "\n",
        "# Función principal para simular la interacción con el empleado\n",
        "\n",
        "if __name__ == \"__main__\":\n",
        "    main()"
      ]
    }
  ]
}